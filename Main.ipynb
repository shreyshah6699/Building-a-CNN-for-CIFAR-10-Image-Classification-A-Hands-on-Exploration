{
 "cells": [
  {
   "cell_type": "markdown",
   "metadata": {
    "id": "-IQUrPbQfAl4"
   },
   "source": [
    "# Assignment 2: Build a CNN for image recognition.\n",
    "\n",
    "## Due Date:  March 31, 11:59PM\n",
    "\n",
    "### Name : Shrey Shah\n",
    "\n",
    "### CWID : 20009523\n"
   ]
  },
  {
   "cell_type": "markdown",
   "metadata": {
    "id": "PlY7buQzfAl5"
   },
   "source": [
    "## Introduction:\n",
    "\n",
    "1. In this assignment, you will build Convolutional Neural Network to classify CIFAR-10 Images.\n",
    "2. You can directly load dataset from many deep learning packages.\n",
    "3. You can use any deep learning packages such as pytorch, keras or tensorflow for this assignment."
   ]
  },
  {
   "cell_type": "markdown",
   "metadata": {
    "id": "gs18vBhUfAl6"
   },
   "source": [
    "## Requirements:\n",
    "\n",
    "1. You need to load cifar 10 data and split the entire training dataset into training and validation.\n",
    "2. You will implement a CNN model to classify cifar 10 images with provided structure.\n",
    "3. You need to plot the training and validation accuracy or loss obtained from above step.\n",
    "4. Then you can use tuned hyper-parameters to train using the entire training dataset.\n",
    "5. You should report the testing accuracy using the model with complete data.\n",
    "6. You may try to change the structure (e.g, add BN layer or dropout layer,...) and analyze your findings.\n",
    "\n",
    "## Google Colab\n",
    "\n",
    "- If you do not have GPU, the training of a CNN can be slow. Google Colab is a good option."
   ]
  },
  {
   "cell_type": "markdown",
   "metadata": {
    "id": "srjhuGB4fAl6"
   },
   "source": [
    "## Batch Normalization (BN)"
   ]
  },
  {
   "cell_type": "markdown",
   "metadata": {
    "id": "JKFPUapRfAl7"
   },
   "source": [
    "### Background:"
   ]
  },
  {
   "cell_type": "markdown",
   "metadata": {
    "id": "H_p_bjkofAl7"
   },
   "source": [
    "- Batch Normalization is a technique to speed up training and help make the model more stable.\n",
    "- In simple words, batch normalization is just another network layer that gets inserted between a hidden layer and the next hidden layer. Its job is to take the outputs from the first hidden layer and normalize them before passing them on as the input of the next hidden layer.\n",
    "\n",
    "- For more detailed information, you may refer to the original paper: https://arxiv.org/pdf/1502.03167.pdf."
   ]
  },
  {
   "cell_type": "markdown",
   "metadata": {
    "id": "XM9lGgudfAl7"
   },
   "source": [
    "### BN Algorithm:"
   ]
  },
  {
   "cell_type": "markdown",
   "metadata": {
    "id": "GAyqZ59rfAl8"
   },
   "source": [
    "- Input: Values of $x$ over a mini-batch: $\\mathbf{B}$ = $\\{x_1,..., x_m\\};$\n",
    "- Output: $\\{y_i = BN_{\\gamma,\\beta}(x_i)\\}$, $\\gamma, \\beta$ are learnable parameters\n",
    "\n",
    "Normalization of the Input:\n",
    "$$\\mu_{\\mathbf{B}} = \\frac{1}{m}\\sum_{i=1}^m x_i$$\n",
    "$$\\sigma_{\\mathbf{B}}^2 = \\frac{1}{m}\\sum_{i=1}^m (x_i - \\mu_{\\mathbf{B}})^2$$\n",
    "$$\\hat{x_i} = \\frac{x_i - \\mu_{\\mathbf{B}}}{\\sqrt{\\sigma_{\\mathbf{B}}}^2 + \\epsilon}$$\n",
    "Re-scaling and Offsetting:\n",
    "$$y_i = \\gamma \\hat{x_i} + \\beta = BN_{\\gamma,\\beta}(x_i)$$\n"
   ]
  },
  {
   "cell_type": "markdown",
   "metadata": {
    "id": "JPzfSTzCfAl8"
   },
   "source": [
    "### Advantages of BN:\n",
    "1. Improves gradient flow through the network.\n",
    "2. Allows use of saturating nonlinearities and higher learning rates.\n",
    "3. Makes weights easier to initialize.\n",
    "4. Act as a form of regularization and may reduce the need for dropout."
   ]
  },
  {
   "cell_type": "markdown",
   "metadata": {
    "id": "Z-2xom98fAl8"
   },
   "source": [
    "### Implementation:"
   ]
  },
  {
   "cell_type": "markdown",
   "metadata": {
    "id": "agKVkiY9fAl9"
   },
   "source": [
    "- The batch normalization layer has already been implemented in many packages. You may simply call the function to build the layer. For example: torch.nn.BatchNorm2d() using pytroch package, keras.layers.BatchNormalization() using keras package.\n",
    "- The location of BN layer: Please make sure ```BatchNormalization``` is between a ```Conv```/```Dense``` layer and an ```activation``` layer."
   ]
  },
  {
   "cell_type": "markdown",
   "metadata": {
    "id": "Jy7nK6tyfAl9"
   },
   "source": [
    "## 1. Data preparation"
   ]
  },
  {
   "cell_type": "markdown",
   "metadata": {
    "id": "zKptVI5tfAl9"
   },
   "source": [
    "### 1.1. Load data\n"
   ]
  },
  {
   "cell_type": "code",
   "execution_count": 3,
   "metadata": {
    "colab": {
     "base_uri": "https://localhost:8080/"
    },
    "id": "F1ilutzGfAl_",
    "outputId": "dbd67927-4a4e-444e-9e8c-ca71cea36d67"
   },
   "outputs": [
    {
     "name": "stdout",
     "output_type": "stream",
     "text": [
      "shape of x_train: (50000, 32, 32, 3)\n",
      "shape of y_train: (50000, 1)\n",
      "shape of x_test: (10000, 32, 32, 3)\n",
      "shape of y_test: (10000, 1)\n",
      "number of classes: 10\n"
     ]
    }
   ],
   "source": [
    "# Load Cifar-10 Data\n",
    "# This is just an example, you may load dataset from other packages.\n",
    "import keras\n",
    "import numpy as np\n",
    "import tensorflow.keras\n",
    "\n",
    "### If you can not load keras dataset, un-comment these two lines.\n",
    "#import ssl\n",
    "#ssl._create_default_https_context = ssl._create_unverified_context\n",
    "\n",
    "(x_train, y_train), (x_test, y_test) = keras.datasets.cifar10.load_data()\n",
    "\n",
    "print('shape of x_train: ' + str(x_train.shape))\n",
    "print('shape of y_train: ' + str(y_train.shape))\n",
    "print('shape of x_test: ' + str(x_test.shape))\n",
    "print('shape of y_test: ' + str(y_test.shape))\n",
    "print('number of classes: ' + str(np.max(y_train) - np.min(y_train) + 1))"
   ]
  },
  {
   "cell_type": "markdown",
   "metadata": {
    "id": "fh37GnCffAmA"
   },
   "source": [
    "### 1.2. One-hot encode the labels (5 points)\n",
    "\n",
    "In the input, a label is a scalar in $\\{0, 1, \\cdots , 9\\}$. One-hot encode transform such a scalar to a $10$-dim vector. E.g., a scalar ```y_train[j]=3``` is transformed to the vector ```y_train_vec[j]=[0, 0, 0, 1, 0, 0, 0, 0, 0, 0]```.\n",
    "\n",
    "1. Implement a function ```to_one_hot``` that transforms an $n\\times 1$ array to a $n\\times 10$ matrix.\n",
    "\n",
    "2. Apply the function to ```y_train``` and ```y_test```."
   ]
  },
  {
   "cell_type": "code",
   "execution_count": 4,
   "metadata": {
    "colab": {
     "base_uri": "https://localhost:8080/"
    },
    "id": "dhjiFC6pfAmA",
    "outputId": "2b4b840e-eb6d-4eda-fa60-797783c5f6be"
   },
   "outputs": [
    {
     "name": "stdout",
     "output_type": "stream",
     "text": [
      "Shape of y_train_vec: (50000, 10)\n",
      "Shape of y_test_vec: (10000, 10)\n",
      "[6]\n",
      "[0. 0. 0. 0. 0. 0. 1. 0. 0. 0.]\n"
     ]
    }
   ],
   "source": [
    "def to_one_hot(y, num_class=10):\n",
    "    y_new = []\n",
    "    for val in y:\n",
    "        tempArr = np.zeros(num_class)\n",
    "        tempArr[val] = 1\n",
    "        y_new.append(tempArr)\n",
    "    \n",
    "    return np.asarray(y_new)\n",
    "    pass\n",
    "    \n",
    "x_train, x_test = x_train.astype('float32') / 255, x_test.astype('float32') / 255\n",
    "y_train_vec = to_one_hot(y_train)\n",
    "y_test_vec = to_one_hot(y_test)\n",
    "\n",
    "print('Shape of y_train_vec: ' + str(y_train_vec.shape))\n",
    "print('Shape of y_test_vec: ' + str(y_test_vec.shape))\n",
    "\n",
    "print(y_train[0])\n",
    "print(y_train_vec[0])"
   ]
  },
  {
   "cell_type": "markdown",
   "metadata": {
    "id": "rL1hRUW_fAmA"
   },
   "source": [
    "#### Remark: the outputs should be\n",
    "* Shape of y_train_vec: (50000, 10)\n",
    "* Shape of y_test_vec: (10000, 10)\n",
    "* [6]\n",
    "* [0. 0. 0. 0. 0. 0. 1. 0. 0. 0.]"
   ]
  },
  {
   "cell_type": "markdown",
   "metadata": {
    "id": "y7sANFI-fAmA"
   },
   "source": [
    "### 1.3. Randomly partition the training set to training and validation sets (5 points)\n",
    "\n",
    "Randomly partition the 50K training samples to 2 sets: \n",
    "* a training set containing 40K samples: x_tr, y_tr\n",
    "* a validation set containing 10K samples: x_val, y_val\n"
   ]
  },
  {
   "cell_type": "code",
   "execution_count": 5,
   "metadata": {
    "colab": {
     "base_uri": "https://localhost:8080/"
    },
    "id": "lQhnZ722fAmB",
    "outputId": "c2724b65-c8d8-42a6-b70c-c29a7527f296"
   },
   "outputs": [
    {
     "name": "stdout",
     "output_type": "stream",
     "text": [
      "Shape of x_tr: (40000, 32, 32, 3)\n",
      "Shape of y_tr: (40000, 10)\n",
      "Shape of x_val: (10000, 32, 32, 3)\n",
      "Shape of y_val: (10000, 10)\n"
     ]
    }
   ],
   "source": [
    "from sklearn.model_selection import train_test_split\n",
    "\n",
    "x_tr, x_val, y_tr, y_val = train_test_split(x_train,y_train_vec,test_size=0.2,shuffle=True)\n",
    "\n",
    "print('Shape of x_tr: ' + str(x_tr.shape))\n",
    "print('Shape of y_tr: ' + str(y_tr.shape))\n",
    "print('Shape of x_val: ' + str(x_val.shape))\n",
    "print('Shape of y_val: ' + str(y_val.shape))"
   ]
  },
  {
   "cell_type": "markdown",
   "metadata": {
    "id": "U3riAJLhfAmB"
   },
   "source": [
    "## 2. Build a CNN and tune its hyper-parameters (50 points)\n",
    "\n",
    "- Build a convolutional neural network model using the below structure:\n",
    "\n",
    "- It should have a structure of: Conv - ReLU - Max Pool - ConV - ReLU - Max Pool - Dense - ReLU - Dense - Softmax\n",
    "\n",
    "- In the graph 3@32x32 means the dimension of input image, 32@30x30 means it has 32 filters and the dimension now becomes 30x30 after the convolution.\n",
    "- All convolutional layers (Conv) should have stride = 1 and no padding.\n",
    "- Max Pooling has a pool size of 2 by 2.\n",
    "\n",
    "\n"
   ]
  },
  {
   "cell_type": "markdown",
   "metadata": {
    "id": "tWATomN7fAmB"
   },
   "source": [
    "<img src=\"network.PNG\"/>"
   ]
  },
  {
   "cell_type": "markdown",
   "metadata": {
    "id": "8MZphvaYfAmC"
   },
   "source": [
    "- You may use the validation data to tune the hyper-parameters (e.g., learning rate, and optimization algorithm)\n",
    "- Do NOT use test data for hyper-parameter tuning!!!\n",
    "- Try to achieve a validation accuracy as high as possible."
   ]
  },
  {
   "cell_type": "code",
   "execution_count": 6,
   "metadata": {
    "colab": {
     "base_uri": "https://localhost:8080/"
    },
    "id": "J7jSeSmEfAmC",
    "outputId": "63873cb6-43a2-4162-d70e-f1f871ec06d4"
   },
   "outputs": [
    {
     "name": "stdout",
     "output_type": "stream",
     "text": [
      "Model: \"sequential\"\n",
      "_________________________________________________________________\n",
      " Layer (type)                Output Shape              Param #   \n",
      "=================================================================\n",
      " conv2d (Conv2D)             (None, 30, 30, 32)        896       \n",
      "                                                                 \n",
      " max_pooling2d (MaxPooling2D  (None, 15, 15, 32)       0         \n",
      " )                                                               \n",
      "                                                                 \n",
      " conv2d_1 (Conv2D)           (None, 12, 12, 64)        32832     \n",
      "                                                                 \n",
      " max_pooling2d_1 (MaxPooling  (None, 6, 6, 64)         0         \n",
      " 2D)                                                             \n",
      "                                                                 \n",
      " flatten (Flatten)           (None, 2304)              0         \n",
      "                                                                 \n",
      " dense (Dense)               (None, 256)               590080    \n",
      "                                                                 \n",
      " dense_1 (Dense)             (None, 10)                2570      \n",
      "                                                                 \n",
      "=================================================================\n",
      "Total params: 626,378\n",
      "Trainable params: 626,378\n",
      "Non-trainable params: 0\n",
      "_________________________________________________________________\n"
     ]
    }
   ],
   "source": [
    "# Build the model\n",
    "from keras.layers import Conv2D, MaxPooling2D, Flatten, Dense, Dropout, Activation, BatchNormalization\n",
    "from keras.models import Sequential\n",
    "\n",
    "model = Sequential()\n",
    "model.add(Conv2D(32, (3, 3), activation='relu', input_shape=(32, 32, 3)))\n",
    "model.add(MaxPooling2D((2, 2)))\n",
    "\n",
    "model.add(Conv2D(64, (4, 4), activation='relu'))\n",
    "model.add(MaxPooling2D((2, 2)))\n",
    "\n",
    "model.add(Flatten())\n",
    "model.add(Dense(256, activation='relu'))\n",
    "\n",
    "model.add(Dense(10, activation='softmax'))\n",
    "\n",
    "model.summary()"
   ]
  },
  {
   "cell_type": "code",
   "execution_count": 7,
   "metadata": {
    "id": "O6m2RrKafAmC"
   },
   "outputs": [],
   "source": [
    "# Define model optimizer and loss function\n",
    "from tensorflow.keras import optimizers\n",
    "\n",
    "lr = 0.0001\n",
    "model.compile(loss='categorical_crossentropy', optimizer=optimizers.RMSprop(learning_rate = lr), metrics=['accuracy'])"
   ]
  },
  {
   "cell_type": "code",
   "execution_count": 8,
   "metadata": {
    "colab": {
     "base_uri": "https://localhost:8080/"
    },
    "id": "j0945kBNfAmC",
    "outputId": "95597314-bcfb-4856-e936-9d220b0a70c8"
   },
   "outputs": [
    {
     "name": "stdout",
     "output_type": "stream",
     "text": [
      "Epoch 1/50\n",
      "313/313 [==============================] - 7s 6ms/step - loss: 1.9130 - accuracy: 0.3328 - val_loss: 1.7204 - val_accuracy: 0.3934\n",
      "Epoch 2/50\n",
      "313/313 [==============================] - 1s 4ms/step - loss: 1.6476 - accuracy: 0.4212 - val_loss: 1.6346 - val_accuracy: 0.4177\n",
      "Epoch 3/50\n",
      "313/313 [==============================] - 2s 5ms/step - loss: 1.5266 - accuracy: 0.4651 - val_loss: 1.4741 - val_accuracy: 0.4801\n",
      "Epoch 4/50\n",
      "313/313 [==============================] - 1s 4ms/step - loss: 1.4451 - accuracy: 0.4913 - val_loss: 1.3970 - val_accuracy: 0.5091\n",
      "Epoch 5/50\n",
      "313/313 [==============================] - 1s 4ms/step - loss: 1.3866 - accuracy: 0.5149 - val_loss: 1.4378 - val_accuracy: 0.4946\n",
      "Epoch 6/50\n",
      "313/313 [==============================] - 1s 4ms/step - loss: 1.3395 - accuracy: 0.5310 - val_loss: 1.3207 - val_accuracy: 0.5356\n",
      "Epoch 7/50\n",
      "313/313 [==============================] - 1s 4ms/step - loss: 1.3000 - accuracy: 0.5486 - val_loss: 1.3296 - val_accuracy: 0.5312\n",
      "Epoch 8/50\n",
      "313/313 [==============================] - 1s 4ms/step - loss: 1.2610 - accuracy: 0.5622 - val_loss: 1.2361 - val_accuracy: 0.5725\n",
      "Epoch 9/50\n",
      "313/313 [==============================] - 1s 4ms/step - loss: 1.2258 - accuracy: 0.5724 - val_loss: 1.2152 - val_accuracy: 0.5860\n",
      "Epoch 10/50\n",
      "313/313 [==============================] - 1s 4ms/step - loss: 1.1964 - accuracy: 0.5838 - val_loss: 1.2082 - val_accuracy: 0.5849\n",
      "Epoch 11/50\n",
      "313/313 [==============================] - 1s 4ms/step - loss: 1.1674 - accuracy: 0.5971 - val_loss: 1.1602 - val_accuracy: 0.5982\n",
      "Epoch 12/50\n",
      "313/313 [==============================] - 1s 4ms/step - loss: 1.1418 - accuracy: 0.6071 - val_loss: 1.1388 - val_accuracy: 0.6077\n",
      "Epoch 13/50\n",
      "313/313 [==============================] - 1s 4ms/step - loss: 1.1194 - accuracy: 0.6123 - val_loss: 1.1886 - val_accuracy: 0.5898\n",
      "Epoch 14/50\n",
      "313/313 [==============================] - 1s 4ms/step - loss: 1.0973 - accuracy: 0.6206 - val_loss: 1.1194 - val_accuracy: 0.6133\n",
      "Epoch 15/50\n",
      "313/313 [==============================] - 1s 4ms/step - loss: 1.0766 - accuracy: 0.6287 - val_loss: 1.1165 - val_accuracy: 0.6108\n",
      "Epoch 16/50\n",
      "313/313 [==============================] - 1s 4ms/step - loss: 1.0575 - accuracy: 0.6349 - val_loss: 1.1472 - val_accuracy: 0.6098\n",
      "Epoch 17/50\n",
      "313/313 [==============================] - 1s 4ms/step - loss: 1.0379 - accuracy: 0.6417 - val_loss: 1.0841 - val_accuracy: 0.6303\n",
      "Epoch 18/50\n",
      "313/313 [==============================] - 1s 4ms/step - loss: 1.0188 - accuracy: 0.6476 - val_loss: 1.0590 - val_accuracy: 0.6357\n",
      "Epoch 19/50\n",
      "313/313 [==============================] - 1s 4ms/step - loss: 1.0051 - accuracy: 0.6525 - val_loss: 1.0720 - val_accuracy: 0.6332\n",
      "Epoch 20/50\n",
      "313/313 [==============================] - 1s 4ms/step - loss: 0.9900 - accuracy: 0.6578 - val_loss: 1.0775 - val_accuracy: 0.6270\n",
      "Epoch 21/50\n",
      "313/313 [==============================] - 1s 4ms/step - loss: 0.9738 - accuracy: 0.6637 - val_loss: 1.0239 - val_accuracy: 0.6465\n",
      "Epoch 22/50\n",
      "313/313 [==============================] - 1s 4ms/step - loss: 0.9588 - accuracy: 0.6703 - val_loss: 1.0406 - val_accuracy: 0.6396\n",
      "Epoch 23/50\n",
      "313/313 [==============================] - 1s 4ms/step - loss: 0.9444 - accuracy: 0.6738 - val_loss: 1.0473 - val_accuracy: 0.6320\n",
      "Epoch 24/50\n",
      "313/313 [==============================] - 1s 4ms/step - loss: 0.9309 - accuracy: 0.6799 - val_loss: 1.0263 - val_accuracy: 0.6428\n",
      "Epoch 25/50\n",
      "313/313 [==============================] - 1s 4ms/step - loss: 0.9193 - accuracy: 0.6857 - val_loss: 1.0171 - val_accuracy: 0.6500\n",
      "Epoch 26/50\n",
      "313/313 [==============================] - 1s 4ms/step - loss: 0.9047 - accuracy: 0.6895 - val_loss: 0.9939 - val_accuracy: 0.6559\n",
      "Epoch 27/50\n",
      "313/313 [==============================] - 1s 4ms/step - loss: 0.8912 - accuracy: 0.6934 - val_loss: 1.0132 - val_accuracy: 0.6555\n",
      "Epoch 28/50\n",
      "313/313 [==============================] - 1s 4ms/step - loss: 0.8792 - accuracy: 0.6987 - val_loss: 0.9765 - val_accuracy: 0.6597\n",
      "Epoch 29/50\n",
      "313/313 [==============================] - 1s 4ms/step - loss: 0.8682 - accuracy: 0.7029 - val_loss: 1.0174 - val_accuracy: 0.6484\n",
      "Epoch 30/50\n",
      "313/313 [==============================] - 1s 4ms/step - loss: 0.8552 - accuracy: 0.7056 - val_loss: 0.9700 - val_accuracy: 0.6667\n",
      "Epoch 31/50\n",
      "313/313 [==============================] - 1s 4ms/step - loss: 0.8465 - accuracy: 0.7113 - val_loss: 0.9615 - val_accuracy: 0.6701\n",
      "Epoch 32/50\n",
      "313/313 [==============================] - 1s 5ms/step - loss: 0.8317 - accuracy: 0.7139 - val_loss: 0.9604 - val_accuracy: 0.6652\n",
      "Epoch 33/50\n",
      "313/313 [==============================] - 1s 5ms/step - loss: 0.8222 - accuracy: 0.7199 - val_loss: 0.9930 - val_accuracy: 0.6592\n",
      "Epoch 34/50\n",
      "313/313 [==============================] - 1s 4ms/step - loss: 0.8099 - accuracy: 0.7236 - val_loss: 1.0077 - val_accuracy: 0.6477\n",
      "Epoch 35/50\n",
      "313/313 [==============================] - 1s 4ms/step - loss: 0.8020 - accuracy: 0.7264 - val_loss: 0.9465 - val_accuracy: 0.6747\n",
      "Epoch 36/50\n",
      "313/313 [==============================] - 1s 4ms/step - loss: 0.7898 - accuracy: 0.7291 - val_loss: 0.9450 - val_accuracy: 0.6747\n",
      "Epoch 37/50\n",
      "313/313 [==============================] - 1s 4ms/step - loss: 0.7789 - accuracy: 0.7336 - val_loss: 0.9809 - val_accuracy: 0.6637\n",
      "Epoch 38/50\n",
      "313/313 [==============================] - 1s 4ms/step - loss: 0.7686 - accuracy: 0.7377 - val_loss: 0.9789 - val_accuracy: 0.6639\n",
      "Epoch 39/50\n",
      "313/313 [==============================] - 1s 4ms/step - loss: 0.7598 - accuracy: 0.7395 - val_loss: 0.9537 - val_accuracy: 0.6787\n",
      "Epoch 40/50\n",
      "313/313 [==============================] - 1s 4ms/step - loss: 0.7471 - accuracy: 0.7466 - val_loss: 0.9404 - val_accuracy: 0.6743\n",
      "Epoch 41/50\n",
      "313/313 [==============================] - 1s 4ms/step - loss: 0.7365 - accuracy: 0.7487 - val_loss: 0.9442 - val_accuracy: 0.6764\n",
      "Epoch 42/50\n",
      "313/313 [==============================] - 1s 4ms/step - loss: 0.7281 - accuracy: 0.7523 - val_loss: 0.9535 - val_accuracy: 0.6723\n",
      "Epoch 43/50\n",
      "313/313 [==============================] - 1s 4ms/step - loss: 0.7187 - accuracy: 0.7569 - val_loss: 0.9701 - val_accuracy: 0.6712\n",
      "Epoch 44/50\n",
      "313/313 [==============================] - 1s 4ms/step - loss: 0.7073 - accuracy: 0.7598 - val_loss: 0.9362 - val_accuracy: 0.6818\n",
      "Epoch 45/50\n",
      "313/313 [==============================] - 1s 4ms/step - loss: 0.6997 - accuracy: 0.7624 - val_loss: 0.9198 - val_accuracy: 0.6866\n",
      "Epoch 46/50\n",
      "313/313 [==============================] - 1s 4ms/step - loss: 0.6869 - accuracy: 0.7687 - val_loss: 0.9288 - val_accuracy: 0.6786\n",
      "Epoch 47/50\n",
      "313/313 [==============================] - 1s 4ms/step - loss: 0.6796 - accuracy: 0.7713 - val_loss: 0.9222 - val_accuracy: 0.6860\n",
      "Epoch 48/50\n",
      "313/313 [==============================] - 1s 4ms/step - loss: 0.6676 - accuracy: 0.7747 - val_loss: 0.9960 - val_accuracy: 0.6677\n",
      "Epoch 49/50\n",
      "313/313 [==============================] - 1s 4ms/step - loss: 0.6581 - accuracy: 0.7757 - val_loss: 0.9211 - val_accuracy: 0.6801\n",
      "Epoch 50/50\n",
      "313/313 [==============================] - 1s 4ms/step - loss: 0.6490 - accuracy: 0.7827 - val_loss: 1.0162 - val_accuracy: 0.6644\n"
     ]
    }
   ],
   "source": [
    "# Train the model and store model parameters/loss values\n",
    "model_1 = model.fit(x_tr, y_tr, batch_size=128, epochs=50, validation_data=(x_val, y_val))\n",
    "model.save('model_1.h5')"
   ]
  },
  {
   "cell_type": "markdown",
   "metadata": {
    "id": "EeV_9G3afAmD"
   },
   "source": [
    "## 3. Plot the training and validation loss curve versus epochs. (5 points)"
   ]
  },
  {
   "cell_type": "code",
   "execution_count": 9,
   "metadata": {
    "colab": {
     "base_uri": "https://localhost:8080/"
    },
    "id": "XI1C67xikZDa",
    "outputId": "44ead6e5-448b-4a16-c65f-8c514515d116"
   },
   "outputs": [
    {
     "data": {
      "text/plain": [
       "dict_keys(['loss', 'accuracy', 'val_loss', 'val_accuracy'])"
      ]
     },
     "execution_count": 9,
     "metadata": {},
     "output_type": "execute_result"
    }
   ],
   "source": [
    "model_1.history.keys()"
   ]
  },
  {
   "cell_type": "code",
   "execution_count": 10,
   "metadata": {
    "colab": {
     "base_uri": "https://localhost:8080/",
     "height": 279
    },
    "id": "cMJcNVJZfAmD",
    "outputId": "1a42cce8-b45f-4857-c813-92f61b897cbb"
   },
   "outputs": [
    {
     "data": {
      "image/png": "[encoded data removed]",
      "text/plain": [
       "<Figure size 640x480 with 1 Axes>"
      ]
     },
     "metadata": {},
     "output_type": "display_data"
    }
   ],
   "source": [
    "# Plot the loss curve\n",
    "\n",
    "import matplotlib.pyplot as plt\n",
    "#%matplotlib inline\n",
    "\n",
    "loss = model_1.history['loss']\n",
    "val_loss = model_1.history['val_loss']\n",
    "\n",
    "plt.xlabel('Epochs')\n",
    "plt.ylabel('Loss')\n",
    "\n",
    "epochs = range(len(loss))\n",
    "\n",
    "plt.plot(epochs, loss, 'red', label='Training loss')\n",
    "plt.plot(epochs, val_loss, 'green', label='Validation loss')\n",
    "\n",
    "plt.legend()\n",
    "plt.show()"
   ]
  },
  {
   "cell_type": "markdown",
   "metadata": {
    "id": "AyT-hyaRfAmD"
   },
   "source": [
    "## 4. Train (again) and evaluate the model (5 points)\n",
    "\n",
    "- To this end, you have found the \"best\" hyper-parameters. \n",
    "- Now, fix the hyper-parameters and train the network on the entire training set (all the 50K training samples)\n",
    "- Evaluate your model on the test set."
   ]
  },
  {
   "cell_type": "markdown",
   "metadata": {
    "id": "E4rL93azfAmD"
   },
   "source": [
    "### Train the model on the entire training set\n",
    "\n",
    "Why? Previously, you used 40K samples for training; you wasted 10K samples for the sake of hyper-parameter tuning. Now you already know the hyper-parameters, so why not using all the 50K samples for training?"
   ]
  },
  {
   "cell_type": "code",
   "execution_count": 11,
   "metadata": {
    "id": "7-Ed-fZzfAmD"
   },
   "outputs": [],
   "source": [
    "#<Compile your model again (using the same hyper-parameters you tuned above)>\n",
    "model = Sequential()\n",
    "model.add(Conv2D(32, (3, 3), activation = 'relu', input_shape=(32, 32, 3)))\n",
    "\n",
    "model.add(MaxPooling2D((2, 2)))\n",
    "\n",
    "model.add(Conv2D(64, (4, 4), activation = 'relu'))\n",
    "\n",
    "model.add(MaxPooling2D((2, 2)))\n",
    "\n",
    "model.add(Flatten())\n",
    "model.add(Dense(256, activation = 'relu'))\n",
    "model.add(Dense(10, activation='softmax'))\n",
    "\n",
    "\n",
    "model.compile(loss='categorical_crossentropy', optimizer=optimizers.RMSprop(learning_rate = 0.0001) , metrics=['acc'])"
   ]
  },
  {
   "cell_type": "code",
   "execution_count": 12,
   "metadata": {
    "colab": {
     "base_uri": "https://localhost:8080/"
    },
    "id": "y_s-BlXBfAmE",
    "outputId": "4fa138e3-af1c-423a-ba33-722963804d2e"
   },
   "outputs": [
    {
     "name": "stdout",
     "output_type": "stream",
     "text": [
      "Epoch 1/50\n",
      "391/391 [==============================] - 2s 4ms/step - loss: 1.8399 - acc: 0.3516\n",
      "Epoch 2/50\n",
      "391/391 [==============================] - 1s 4ms/step - loss: 1.5559 - acc: 0.4488\n",
      "Epoch 3/50\n",
      "391/391 [==============================] - 1s 4ms/step - loss: 1.4341 - acc: 0.4925\n",
      "Epoch 4/50\n",
      "391/391 [==============================] - 1s 4ms/step - loss: 1.3553 - acc: 0.5208\n",
      "Epoch 5/50\n",
      "391/391 [==============================] - 1s 4ms/step - loss: 1.2973 - acc: 0.5439\n",
      "Epoch 6/50\n",
      "391/391 [==============================] - 1s 4ms/step - loss: 1.2485 - acc: 0.5618\n",
      "Epoch 7/50\n",
      "391/391 [==============================] - 1s 4ms/step - loss: 1.2071 - acc: 0.5779\n",
      "Epoch 8/50\n",
      "391/391 [==============================] - 1s 4ms/step - loss: 1.1724 - acc: 0.5905\n",
      "Epoch 9/50\n",
      "391/391 [==============================] - 1s 4ms/step - loss: 1.1408 - acc: 0.6011\n",
      "Epoch 10/50\n",
      "391/391 [==============================] - 1s 4ms/step - loss: 1.1099 - acc: 0.6126\n",
      "Epoch 11/50\n",
      "391/391 [==============================] - 2s 4ms/step - loss: 1.0856 - acc: 0.6223\n",
      "Epoch 12/50\n",
      "391/391 [==============================] - 1s 4ms/step - loss: 1.0612 - acc: 0.6311\n",
      "Epoch 13/50\n",
      "391/391 [==============================] - 1s 4ms/step - loss: 1.0376 - acc: 0.6397\n",
      "Epoch 14/50\n",
      "391/391 [==============================] - 1s 4ms/step - loss: 1.0159 - acc: 0.6481\n",
      "Epoch 15/50\n",
      "391/391 [==============================] - 1s 4ms/step - loss: 0.9958 - acc: 0.6558\n",
      "Epoch 16/50\n",
      "391/391 [==============================] - 1s 4ms/step - loss: 0.9778 - acc: 0.6607\n",
      "Epoch 17/50\n",
      "391/391 [==============================] - 1s 4ms/step - loss: 0.9600 - acc: 0.6700\n",
      "Epoch 18/50\n",
      "391/391 [==============================] - 1s 4ms/step - loss: 0.9430 - acc: 0.6756\n",
      "Epoch 19/50\n",
      "391/391 [==============================] - 1s 4ms/step - loss: 0.9294 - acc: 0.6785\n",
      "Epoch 20/50\n",
      "391/391 [==============================] - 1s 4ms/step - loss: 0.9124 - acc: 0.6854\n",
      "Epoch 21/50\n",
      "391/391 [==============================] - 1s 4ms/step - loss: 0.8999 - acc: 0.6893\n",
      "Epoch 22/50\n",
      "391/391 [==============================] - 1s 4ms/step - loss: 0.8844 - acc: 0.6950\n",
      "Epoch 23/50\n",
      "391/391 [==============================] - 1s 4ms/step - loss: 0.8714 - acc: 0.7007\n",
      "Epoch 24/50\n",
      "391/391 [==============================] - 1s 4ms/step - loss: 0.8576 - acc: 0.7061\n",
      "Epoch 25/50\n",
      "391/391 [==============================] - 2s 4ms/step - loss: 0.8459 - acc: 0.7098\n",
      "Epoch 26/50\n",
      "391/391 [==============================] - 2s 4ms/step - loss: 0.8335 - acc: 0.7132\n",
      "Epoch 27/50\n",
      "391/391 [==============================] - 2s 4ms/step - loss: 0.8240 - acc: 0.7170\n",
      "Epoch 28/50\n",
      "391/391 [==============================] - 1s 4ms/step - loss: 0.8111 - acc: 0.7214\n",
      "Epoch 29/50\n",
      "391/391 [==============================] - 1s 4ms/step - loss: 0.7995 - acc: 0.7250\n",
      "Epoch 30/50\n",
      "391/391 [==============================] - 1s 4ms/step - loss: 0.7879 - acc: 0.7289\n",
      "Epoch 31/50\n",
      "391/391 [==============================] - 1s 4ms/step - loss: 0.7783 - acc: 0.7339\n",
      "Epoch 32/50\n",
      "391/391 [==============================] - 1s 4ms/step - loss: 0.7673 - acc: 0.7366\n",
      "Epoch 33/50\n",
      "391/391 [==============================] - 1s 4ms/step - loss: 0.7559 - acc: 0.7401\n",
      "Epoch 34/50\n",
      "391/391 [==============================] - 1s 4ms/step - loss: 0.7456 - acc: 0.7462\n",
      "Epoch 35/50\n",
      "391/391 [==============================] - 1s 4ms/step - loss: 0.7358 - acc: 0.7494\n",
      "Epoch 36/50\n",
      "391/391 [==============================] - 1s 4ms/step - loss: 0.7263 - acc: 0.7518\n",
      "Epoch 37/50\n",
      "391/391 [==============================] - 1s 4ms/step - loss: 0.7146 - acc: 0.7542\n",
      "Epoch 38/50\n",
      "391/391 [==============================] - 1s 4ms/step - loss: 0.7052 - acc: 0.7596\n",
      "Epoch 39/50\n",
      "391/391 [==============================] - 1s 4ms/step - loss: 0.6952 - acc: 0.7621\n",
      "Epoch 40/50\n",
      "391/391 [==============================] - 2s 4ms/step - loss: 0.6857 - acc: 0.7660\n",
      "Epoch 41/50\n",
      "391/391 [==============================] - 1s 4ms/step - loss: 0.6753 - acc: 0.7676\n",
      "Epoch 42/50\n",
      "391/391 [==============================] - 1s 4ms/step - loss: 0.6664 - acc: 0.7737\n",
      "Epoch 43/50\n",
      "391/391 [==============================] - 1s 4ms/step - loss: 0.6557 - acc: 0.7757\n",
      "Epoch 44/50\n",
      "391/391 [==============================] - 1s 4ms/step - loss: 0.6468 - acc: 0.7783\n",
      "Epoch 45/50\n",
      "391/391 [==============================] - 2s 4ms/step - loss: 0.6376 - acc: 0.7829\n",
      "Epoch 46/50\n",
      "391/391 [==============================] - 2s 4ms/step - loss: 0.6297 - acc: 0.7843\n",
      "Epoch 47/50\n",
      "391/391 [==============================] - 1s 4ms/step - loss: 0.6200 - acc: 0.7889\n",
      "Epoch 48/50\n",
      "391/391 [==============================] - 1s 4ms/step - loss: 0.6104 - acc: 0.7924\n",
      "Epoch 49/50\n",
      "391/391 [==============================] - 1s 4ms/step - loss: 0.6030 - acc: 0.7946\n",
      "Epoch 50/50\n",
      "391/391 [==============================] - 1s 4ms/step - loss: 0.5915 - acc: 0.7996\n"
     ]
    }
   ],
   "source": [
    "#<Train your model on the entire training set (50K samples)>\n",
    "model_2 = model.fit(x_train, y_train_vec, batch_size=128, epochs=50)\n",
    "model.save('model_2.h5')"
   ]
  },
  {
   "cell_type": "markdown",
   "metadata": {
    "id": "1FmKUnvnfAmE"
   },
   "source": [
    "## 5. Evaluate the model on the test set (5 points)\n",
    "\n",
    "Do NOT use the test set until now. Make sure that your model parameters and hyper-parameters are independent of the test set."
   ]
  },
  {
   "cell_type": "code",
   "execution_count": 13,
   "metadata": {
    "colab": {
     "base_uri": "https://localhost:8080/"
    },
    "id": "6xoyIstfpdsb",
    "outputId": "dca18137-653a-4692-ff9a-8041116c0565"
   },
   "outputs": [
    {
     "name": "stdout",
     "output_type": "stream",
     "text": [
      "313/313 [==============================] - 1s 2ms/step - loss: 1.0277 - accuracy: 0.6602\n",
      "loss = 1.0277191400527954\n",
      "accuracy = 0.6601999998092651\n"
     ]
    }
   ],
   "source": [
    "from keras.models import load_model\n",
    "\n",
    "current_model = load_model('model_1.h5')\n",
    "Current_acc = current_model.evaluate(x_test, y_test_vec)\n",
    "print('loss = ' + str(Current_acc[0]))\n",
    "print('accuracy = ' + str(Current_acc[1]))"
   ]
  },
  {
   "cell_type": "code",
   "execution_count": 14,
   "metadata": {
    "colab": {
     "base_uri": "https://localhost:8080/"
    },
    "id": "oB-S6UEAfAmE",
    "outputId": "dde13488-f7db-460c-d69e-af0c0dccb4c9"
   },
   "outputs": [
    {
     "name": "stdout",
     "output_type": "stream",
     "text": [
      "313/313 [==============================] - 1s 2ms/step - loss: 0.8680 - acc: 0.7045\n",
      "loss = 0.8679858446121216\n",
      "accuracy = 0.7045000195503235\n"
     ]
    }
   ],
   "source": [
    "current_model = load_model('model_2.h5')\n",
    "Current_acc = current_model.evaluate(x_test, y_test_vec)\n",
    "print('loss = ' + str(Current_acc[0]))\n",
    "print('accuracy = ' + str(Current_acc[1]))"
   ]
  },
  {
   "cell_type": "markdown",
   "metadata": {
    "id": "K3N9p5_xfAmE"
   },
   "source": [
    "## 6. Building model with new structure (25 points)\n",
    "- In this section, you can build your model with adding new layers (e.g, BN layer or dropout layer, ...).\n",
    "- If you want to regularize a ```Conv/Dense layer```, you should place a ```Dropout layer``` before the ```Conv/Dense layer```.\n",
    "- You can try to compare their loss curve and testing accuracy and analyze your findings.\n",
    "- You need to try at lease two different model structures."
   ]
  },
  {
   "cell_type": "markdown",
   "metadata": {
    "id": "rWXtwkS0pdsc"
   },
   "source": [
    "### First Model using Batch Normalization:"
   ]
  },
  {
   "cell_type": "code",
   "execution_count": 15,
   "metadata": {
    "colab": {
     "base_uri": "https://localhost:8080/"
    },
    "id": "GEnuEAn_fAmF",
    "outputId": "983e25f2-05e6-4d6f-89b7-a8dfd404345c"
   },
   "outputs": [
    {
     "name": "stdout",
     "output_type": "stream",
     "text": [
      "Model: \"sequential_2\"\n",
      "_________________________________________________________________\n",
      " Layer (type)                Output Shape              Param #   \n",
      "=================================================================\n",
      " conv2d_4 (Conv2D)           (None, 30, 30, 32)        896       \n",
      "                                                                 \n",
      " batch_normalization (BatchN  (None, 30, 30, 32)       128       \n",
      " ormalization)                                                   \n",
      "                                                                 \n",
      " activation (Activation)     (None, 30, 30, 32)        0         \n",
      "                                                                 \n",
      " max_pooling2d_4 (MaxPooling  (None, 15, 15, 32)       0         \n",
      " 2D)                                                             \n",
      "                                                                 \n",
      " conv2d_5 (Conv2D)           (None, 12, 12, 64)        32832     \n",
      "                                                                 \n",
      " batch_normalization_1 (Batc  (None, 12, 12, 64)       256       \n",
      " hNormalization)                                                 \n",
      "                                                                 \n",
      " activation_1 (Activation)   (None, 12, 12, 64)        0         \n",
      "                                                                 \n",
      " max_pooling2d_5 (MaxPooling  (None, 6, 6, 64)         0         \n",
      " 2D)                                                             \n",
      "                                                                 \n",
      " flatten_2 (Flatten)         (None, 2304)              0         \n",
      "                                                                 \n",
      " dense_4 (Dense)             (None, 256)               590080    \n",
      "                                                                 \n",
      " batch_normalization_2 (Batc  (None, 256)              1024      \n",
      " hNormalization)                                                 \n",
      "                                                                 \n",
      " activation_2 (Activation)   (None, 256)               0         \n",
      "                                                                 \n",
      " dense_5 (Dense)             (None, 10)                2570      \n",
      "                                                                 \n",
      "=================================================================\n",
      "Total params: 627,786\n",
      "Trainable params: 627,082\n",
      "Non-trainable params: 704\n",
      "_________________________________________________________________\n"
     ]
    }
   ],
   "source": [
    "#Building the model\n",
    "\n",
    "model = Sequential()\n",
    "model.add(Conv2D(32, (3, 3), input_shape=(32, 32, 3)))\n",
    "model.add(BatchNormalization())\n",
    "model.add(Activation('relu'))\n",
    "\n",
    "model.add(MaxPooling2D((2, 2)))\n",
    "\n",
    "model.add(Conv2D(64, (4, 4)))\n",
    "model.add(BatchNormalization())\n",
    "model.add(Activation('relu'))\n",
    "\n",
    "model.add(MaxPooling2D((2, 2)))\n",
    "\n",
    "model.add(Flatten())\n",
    "model.add(Dense(256))\n",
    "model.add(BatchNormalization())\n",
    "model.add(Activation('relu'))\n",
    "\n",
    "model.add(Dense(10, activation='softmax'))\n",
    "\n",
    "model.summary()"
   ]
  },
  {
   "cell_type": "code",
   "execution_count": 16,
   "metadata": {
    "id": "LTKBMfsTs0K-"
   },
   "outputs": [],
   "source": [
    "# Doing data augmentation\n",
    "from tensorflow.keras.preprocessing.image import ImageDataGenerator\n",
    "\n",
    "temp_data = ImageDataGenerator( rotation_range=20, height_shift_range=0.2, width_shift_range=0.2, zoom_range = 0.2, shear_range = 0.2, horizontal_flip=True)"
   ]
  },
  {
   "cell_type": "code",
   "execution_count": 17,
   "metadata": {
    "id": "taZq_A4lthmN"
   },
   "outputs": [],
   "source": [
    "# Define model optimizer and loss function\n",
    "lr = 0.0001\n",
    "model.compile(loss='categorical_crossentropy', optimizer=optimizers.RMSprop(learning_rate=lr), metrics=['acc'])"
   ]
  },
  {
   "cell_type": "code",
   "execution_count": 18,
   "metadata": {
    "colab": {
     "base_uri": "https://localhost:8080/"
    },
    "id": "byAsuyMstmiN",
    "outputId": "45538927-1cb3-4ef5-8149-fbae54fc18d4"
   },
   "outputs": [
    {
     "name": "stdout",
     "output_type": "stream",
     "text": [
      "Epoch 1/50\n",
      "312/312 [==============================] - 14s 41ms/step - loss: 1.7661 - acc: 0.3656 - val_loss: 2.4578 - val_acc: 0.1781\n",
      "Epoch 2/50\n",
      "312/312 [==============================] - 12s 40ms/step - loss: 1.5402 - acc: 0.4496 - val_loss: 1.3038 - val_acc: 0.5356\n",
      "Epoch 3/50\n",
      "312/312 [==============================] - 13s 41ms/step - loss: 1.4541 - acc: 0.4795 - val_loss: 1.3265 - val_acc: 0.5329\n",
      "Epoch 4/50\n",
      "312/312 [==============================] - 13s 40ms/step - loss: 1.3897 - acc: 0.5039 - val_loss: 1.3783 - val_acc: 0.5250\n",
      "Epoch 5/50\n",
      "312/312 [==============================] - 12s 40ms/step - loss: 1.3344 - acc: 0.5272 - val_loss: 1.3185 - val_acc: 0.5375\n",
      "Epoch 6/50\n",
      "312/312 [==============================] - 13s 40ms/step - loss: 1.2992 - acc: 0.5393 - val_loss: 1.1908 - val_acc: 0.5739\n",
      "Epoch 7/50\n",
      "312/312 [==============================] - 13s 41ms/step - loss: 1.2653 - acc: 0.5526 - val_loss: 1.1303 - val_acc: 0.6010\n",
      "Epoch 8/50\n",
      "312/312 [==============================] - 13s 41ms/step - loss: 1.2407 - acc: 0.5639 - val_loss: 1.2059 - val_acc: 0.5753\n",
      "Epoch 9/50\n",
      "312/312 [==============================] - 17s 55ms/step - loss: 1.2130 - acc: 0.5734 - val_loss: 1.2646 - val_acc: 0.5725\n",
      "Epoch 10/50\n",
      "312/312 [==============================] - 12s 40ms/step - loss: 1.1944 - acc: 0.5788 - val_loss: 1.1789 - val_acc: 0.5882\n",
      "Epoch 11/50\n",
      "312/312 [==============================] - 13s 41ms/step - loss: 1.1733 - acc: 0.5857 - val_loss: 1.0359 - val_acc: 0.6362\n",
      "Epoch 12/50\n",
      "312/312 [==============================] - 13s 42ms/step - loss: 1.1537 - acc: 0.5939 - val_loss: 1.0656 - val_acc: 0.6271\n",
      "Epoch 13/50\n",
      "312/312 [==============================] - 13s 41ms/step - loss: 1.1336 - acc: 0.6001 - val_loss: 1.1833 - val_acc: 0.5955\n",
      "Epoch 14/50\n",
      "312/312 [==============================] - 13s 40ms/step - loss: 1.1182 - acc: 0.6079 - val_loss: 0.9492 - val_acc: 0.6704\n",
      "Epoch 15/50\n",
      "312/312 [==============================] - 13s 40ms/step - loss: 1.1042 - acc: 0.6140 - val_loss: 0.9662 - val_acc: 0.6683\n",
      "Epoch 16/50\n",
      "312/312 [==============================] - 13s 41ms/step - loss: 1.0958 - acc: 0.6156 - val_loss: 0.9131 - val_acc: 0.6832\n",
      "Epoch 17/50\n",
      "312/312 [==============================] - 13s 40ms/step - loss: 1.0821 - acc: 0.6196 - val_loss: 1.0033 - val_acc: 0.6528\n",
      "Epoch 18/50\n",
      "312/312 [==============================] - 13s 40ms/step - loss: 1.0640 - acc: 0.6253 - val_loss: 0.8912 - val_acc: 0.6915\n",
      "Epoch 19/50\n",
      "312/312 [==============================] - 13s 40ms/step - loss: 1.0553 - acc: 0.6297 - val_loss: 1.0065 - val_acc: 0.6571\n",
      "Epoch 20/50\n",
      "312/312 [==============================] - 13s 42ms/step - loss: 1.0451 - acc: 0.6344 - val_loss: 0.9751 - val_acc: 0.6627\n",
      "Epoch 21/50\n",
      "312/312 [==============================] - 13s 42ms/step - loss: 1.0408 - acc: 0.6318 - val_loss: 0.9671 - val_acc: 0.6597\n",
      "Epoch 22/50\n",
      "312/312 [==============================] - 13s 40ms/step - loss: 1.0268 - acc: 0.6374 - val_loss: 0.9991 - val_acc: 0.6585\n",
      "Epoch 23/50\n",
      "312/312 [==============================] - 13s 41ms/step - loss: 1.0121 - acc: 0.6443 - val_loss: 0.9475 - val_acc: 0.6770\n",
      "Epoch 24/50\n",
      "312/312 [==============================] - 13s 40ms/step - loss: 1.0093 - acc: 0.6469 - val_loss: 0.8552 - val_acc: 0.7046\n",
      "Epoch 25/50\n",
      "312/312 [==============================] - 12s 40ms/step - loss: 0.9937 - acc: 0.6529 - val_loss: 0.8869 - val_acc: 0.6950\n",
      "Epoch 26/50\n",
      "312/312 [==============================] - 13s 41ms/step - loss: 0.9935 - acc: 0.6514 - val_loss: 0.9376 - val_acc: 0.6821\n",
      "Epoch 27/50\n",
      "312/312 [==============================] - 13s 41ms/step - loss: 0.9744 - acc: 0.6583 - val_loss: 0.9209 - val_acc: 0.6819\n",
      "Epoch 28/50\n",
      "312/312 [==============================] - 13s 40ms/step - loss: 0.9749 - acc: 0.6583 - val_loss: 0.9754 - val_acc: 0.6615\n",
      "Epoch 29/50\n",
      "312/312 [==============================] - 13s 41ms/step - loss: 0.9691 - acc: 0.6627 - val_loss: 0.9787 - val_acc: 0.6696\n",
      "Epoch 30/50\n",
      "312/312 [==============================] - 13s 41ms/step - loss: 0.9602 - acc: 0.6633 - val_loss: 0.8911 - val_acc: 0.6914\n",
      "Epoch 31/50\n",
      "312/312 [==============================] - 13s 41ms/step - loss: 0.9485 - acc: 0.6690 - val_loss: 1.0136 - val_acc: 0.6559\n",
      "Epoch 32/50\n",
      "312/312 [==============================] - 13s 40ms/step - loss: 0.9482 - acc: 0.6691 - val_loss: 0.8290 - val_acc: 0.7115\n",
      "Epoch 33/50\n",
      "312/312 [==============================] - 13s 40ms/step - loss: 0.9397 - acc: 0.6729 - val_loss: 0.8371 - val_acc: 0.7097\n",
      "Epoch 34/50\n",
      "312/312 [==============================] - 13s 41ms/step - loss: 0.9354 - acc: 0.6704 - val_loss: 0.8873 - val_acc: 0.6940\n",
      "Epoch 35/50\n",
      "312/312 [==============================] - 13s 42ms/step - loss: 0.9306 - acc: 0.6746 - val_loss: 1.0502 - val_acc: 0.6431\n",
      "Epoch 36/50\n",
      "312/312 [==============================] - 13s 40ms/step - loss: 0.9209 - acc: 0.6783 - val_loss: 0.8319 - val_acc: 0.7164\n",
      "Epoch 37/50\n",
      "312/312 [==============================] - 13s 40ms/step - loss: 0.9138 - acc: 0.6808 - val_loss: 0.9591 - val_acc: 0.6668\n",
      "Epoch 38/50\n",
      "312/312 [==============================] - 13s 41ms/step - loss: 0.9112 - acc: 0.6804 - val_loss: 0.7991 - val_acc: 0.7232\n",
      "Epoch 39/50\n",
      "312/312 [==============================] - 13s 41ms/step - loss: 0.8994 - acc: 0.6862 - val_loss: 0.7952 - val_acc: 0.7266\n",
      "Epoch 40/50\n",
      "312/312 [==============================] - 13s 41ms/step - loss: 0.9039 - acc: 0.6818 - val_loss: 0.8805 - val_acc: 0.7011\n",
      "Epoch 41/50\n",
      "312/312 [==============================] - 13s 41ms/step - loss: 0.8938 - acc: 0.6900 - val_loss: 0.8577 - val_acc: 0.7064\n",
      "Epoch 42/50\n",
      "312/312 [==============================] - 13s 41ms/step - loss: 0.8949 - acc: 0.6872 - val_loss: 0.8338 - val_acc: 0.7083\n",
      "Epoch 43/50\n",
      "312/312 [==============================] - 13s 40ms/step - loss: 0.8825 - acc: 0.6917 - val_loss: 0.7739 - val_acc: 0.7294\n",
      "Epoch 44/50\n",
      "312/312 [==============================] - 13s 40ms/step - loss: 0.8786 - acc: 0.6956 - val_loss: 0.8520 - val_acc: 0.7049\n",
      "Epoch 45/50\n",
      "312/312 [==============================] - 13s 40ms/step - loss: 0.8798 - acc: 0.6950 - val_loss: 1.0208 - val_acc: 0.6720\n",
      "Epoch 46/50\n",
      "312/312 [==============================] - 13s 40ms/step - loss: 0.8711 - acc: 0.6958 - val_loss: 0.8281 - val_acc: 0.7132\n",
      "Epoch 47/50\n",
      "312/312 [==============================] - 13s 41ms/step - loss: 0.8733 - acc: 0.6945 - val_loss: 0.7788 - val_acc: 0.7283\n",
      "Epoch 48/50\n",
      "312/312 [==============================] - 12s 40ms/step - loss: 0.8639 - acc: 0.6983 - val_loss: 0.8050 - val_acc: 0.7161\n",
      "Epoch 49/50\n",
      "312/312 [==============================] - 13s 41ms/step - loss: 0.8565 - acc: 0.7012 - val_loss: 0.7685 - val_acc: 0.7353\n",
      "Epoch 50/50\n",
      "312/312 [==============================] - 13s 40ms/step - loss: 0.8560 - acc: 0.6985 - val_loss: 0.9000 - val_acc: 0.6996\n"
     ]
    }
   ],
   "source": [
    "# Fits the model with real-time data augmentation\n",
    "\n",
    "model_3 = model.fit(temp_data.flow(x_tr, y_tr, batch_size=128), steps_per_epoch=x_tr.shape[0] // 128, epochs=50, validation_data=(x_val, y_val), validation_batch_size=x_val.shape[0] // 40)\n",
    "model.save('model_3.h5')"
   ]
  },
  {
   "cell_type": "code",
   "execution_count": 35,
   "metadata": {
    "colab": {
     "base_uri": "https://localhost:8080/",
     "height": 279
    },
    "id": "TIzX9r5etu4s",
    "outputId": "83f68c45-e87e-4fc6-ade4-31eb2a4942b5"
   },
   "outputs": [
    {
     "data": {
      "image/png": "[encoded data removed]",
      "text/plain": [
       "<Figure size 640x480 with 1 Axes>"
      ]
     },
     "metadata": {},
     "output_type": "display_data"
    }
   ],
   "source": [
    "# Plot the loss curve\n",
    "\n",
    "loss = model_3.history['loss']\n",
    "val_loss = model_3.history['val_loss']\n",
    "\n",
    "plt.xlabel('Epochs')\n",
    "plt.ylabel('loss')\n",
    "\n",
    "epochs = range(len(loss))\n",
    "\n",
    "plt.plot(epochs, loss, 'red', label='Training loss')\n",
    "plt.plot(epochs, val_loss, 'green', label='Validation loss')\n",
    "\n",
    "plt.legend()\n",
    "plt.show()"
   ]
  },
  {
   "cell_type": "markdown",
   "metadata": {
    "id": "qkNV4SVRpdsd"
   },
   "source": [
    "### Train the model on the entire training set\n",
    "Why? Previously, you used 40K samples for training; you wasted 10K samples for the sake of hyper-parameter tuning. Now you already know the hyper-parameters, so why not using all the 50K samples for training?"
   ]
  },
  {
   "cell_type": "code",
   "execution_count": 23,
   "metadata": {
    "id": "X74Ymrg174IH"
   },
   "outputs": [],
   "source": [
    "#<Compile your model again (using the same hyper-parameters you tuned above)>\n",
    "\n",
    "model = Sequential()\n",
    "model.add(Conv2D(32, (3, 3), input_shape=(32, 32, 3)))\n",
    "model.add(BatchNormalization())\n",
    "model.add(Activation('relu'))\n",
    "\n",
    "model.add(MaxPooling2D((2, 2)))\n",
    "\n",
    "model.add(Conv2D(64, (4, 4)))\n",
    "model.add(BatchNormalization())\n",
    "model.add(Activation('relu'))\n",
    "\n",
    "model.add(MaxPooling2D((2, 2)))\n",
    "\n",
    "model.add(Flatten())\n",
    "model.add(Dense(256))\n",
    "model.add(BatchNormalization())\n",
    "model.add(Activation('relu'))\n",
    "\n",
    "model.add(Dense(10, activation='softmax'))\n",
    "\n",
    "model.compile(loss='categorical_crossentropy', optimizer=optimizers.RMSprop(learning_rate = lr) , metrics=['acc'])\n",
    "\n",
    "# Data augmentation\n",
    "\n",
    "temp_data = ImageDataGenerator( rotation_range=20, height_shift_range=0.2, width_shift_range=0.2, \n",
    "                               zoom_range = 0.2, shear_range = 0.2, horizontal_flip=True)"
   ]
  },
  {
   "cell_type": "code",
   "execution_count": 24,
   "metadata": {
    "colab": {
     "base_uri": "https://localhost:8080/"
    },
    "id": "ftygXsGr76UP",
    "outputId": "edfc9745-3898-4781-9ba7-f1ed511f3caf"
   },
   "outputs": [
    {
     "name": "stdout",
     "output_type": "stream",
     "text": [
      "Epoch 1/50\n",
      "312/312 [==============================] - 14s 42ms/step - loss: 1.7751 - acc: 0.3651\n",
      "Epoch 2/50\n",
      "312/312 [==============================] - 13s 40ms/step - loss: 1.5258 - acc: 0.4496\n",
      "Epoch 3/50\n",
      "312/312 [==============================] - 13s 41ms/step - loss: 1.4247 - acc: 0.4872\n",
      "Epoch 4/50\n",
      "312/312 [==============================] - 13s 40ms/step - loss: 1.3614 - acc: 0.5133\n",
      "Epoch 5/50\n",
      "312/312 [==============================] - 13s 41ms/step - loss: 1.3183 - acc: 0.5304\n",
      "Epoch 6/50\n",
      "312/312 [==============================] - 13s 41ms/step - loss: 1.2727 - acc: 0.5475\n",
      "Epoch 7/50\n",
      "312/312 [==============================] - 12s 40ms/step - loss: 1.2425 - acc: 0.5579\n",
      "Epoch 8/50\n",
      "312/312 [==============================] - 13s 41ms/step - loss: 1.2169 - acc: 0.5675\n",
      "Epoch 9/50\n",
      "312/312 [==============================] - 13s 41ms/step - loss: 1.1947 - acc: 0.5772\n",
      "Epoch 10/50\n",
      "312/312 [==============================] - 13s 40ms/step - loss: 1.1706 - acc: 0.5853\n",
      "Epoch 11/50\n",
      "312/312 [==============================] - 13s 40ms/step - loss: 1.1474 - acc: 0.5951\n",
      "Epoch 12/50\n",
      "312/312 [==============================] - 13s 41ms/step - loss: 1.1302 - acc: 0.6023\n",
      "Epoch 13/50\n",
      "312/312 [==============================] - 13s 40ms/step - loss: 1.1183 - acc: 0.6049\n",
      "Epoch 14/50\n",
      "312/312 [==============================] - 12s 39ms/step - loss: 1.1049 - acc: 0.6117\n",
      "Epoch 15/50\n",
      "312/312 [==============================] - 13s 41ms/step - loss: 1.0887 - acc: 0.6160\n",
      "Epoch 16/50\n",
      "312/312 [==============================] - 13s 41ms/step - loss: 1.0790 - acc: 0.6201\n",
      "Epoch 17/50\n",
      "312/312 [==============================] - 13s 40ms/step - loss: 1.0638 - acc: 0.6233\n",
      "Epoch 18/50\n",
      "312/312 [==============================] - 13s 41ms/step - loss: 1.0504 - acc: 0.6294\n",
      "Epoch 19/50\n",
      "312/312 [==============================] - 13s 40ms/step - loss: 1.0440 - acc: 0.6320\n",
      "Epoch 20/50\n",
      "312/312 [==============================] - 12s 40ms/step - loss: 1.0279 - acc: 0.6377\n",
      "Epoch 21/50\n",
      "312/312 [==============================] - 13s 40ms/step - loss: 1.0245 - acc: 0.6397\n",
      "Epoch 22/50\n",
      "312/312 [==============================] - 12s 40ms/step - loss: 1.0129 - acc: 0.6438\n",
      "Epoch 23/50\n",
      "312/312 [==============================] - 13s 41ms/step - loss: 1.0065 - acc: 0.6457\n",
      "Epoch 24/50\n",
      "312/312 [==============================] - 12s 40ms/step - loss: 0.9930 - acc: 0.6526\n",
      "Epoch 25/50\n",
      "312/312 [==============================] - 12s 40ms/step - loss: 0.9911 - acc: 0.6540\n",
      "Epoch 26/50\n",
      "312/312 [==============================] - 12s 40ms/step - loss: 0.9862 - acc: 0.6552\n",
      "Epoch 27/50\n",
      "312/312 [==============================] - 13s 41ms/step - loss: 0.9790 - acc: 0.6587\n",
      "Epoch 28/50\n",
      "312/312 [==============================] - 13s 41ms/step - loss: 0.9681 - acc: 0.6600\n",
      "Epoch 29/50\n",
      "312/312 [==============================] - 13s 40ms/step - loss: 0.9621 - acc: 0.6640\n",
      "Epoch 30/50\n",
      "312/312 [==============================] - 13s 40ms/step - loss: 0.9518 - acc: 0.6676\n",
      "Epoch 31/50\n",
      "312/312 [==============================] - 12s 40ms/step - loss: 0.9444 - acc: 0.6700\n",
      "Epoch 32/50\n",
      "312/312 [==============================] - 12s 39ms/step - loss: 0.9454 - acc: 0.6674\n",
      "Epoch 33/50\n",
      "312/312 [==============================] - 12s 40ms/step - loss: 0.9343 - acc: 0.6719\n",
      "Epoch 34/50\n",
      "312/312 [==============================] - 12s 40ms/step - loss: 0.9303 - acc: 0.6762\n",
      "Epoch 35/50\n",
      "312/312 [==============================] - 13s 40ms/step - loss: 0.9282 - acc: 0.6753\n",
      "Epoch 36/50\n",
      "312/312 [==============================] - 12s 40ms/step - loss: 0.9217 - acc: 0.6763\n",
      "Epoch 37/50\n",
      "312/312 [==============================] - 12s 39ms/step - loss: 0.9177 - acc: 0.6800\n",
      "Epoch 38/50\n",
      "312/312 [==============================] - 12s 39ms/step - loss: 0.9100 - acc: 0.6822\n",
      "Epoch 39/50\n",
      "312/312 [==============================] - 13s 41ms/step - loss: 0.9041 - acc: 0.6855\n",
      "Epoch 40/50\n",
      "312/312 [==============================] - 12s 40ms/step - loss: 0.9042 - acc: 0.6860\n",
      "Epoch 41/50\n",
      "312/312 [==============================] - 13s 40ms/step - loss: 0.9010 - acc: 0.6847\n",
      "Epoch 42/50\n",
      "312/312 [==============================] - 12s 40ms/step - loss: 0.8935 - acc: 0.6879\n",
      "Epoch 43/50\n",
      "312/312 [==============================] - 12s 39ms/step - loss: 0.8931 - acc: 0.6886\n",
      "Epoch 44/50\n",
      "312/312 [==============================] - 12s 39ms/step - loss: 0.8854 - acc: 0.6907\n",
      "Epoch 45/50\n",
      "312/312 [==============================] - 12s 40ms/step - loss: 0.8883 - acc: 0.6902\n",
      "Epoch 46/50\n",
      "312/312 [==============================] - 12s 40ms/step - loss: 0.8737 - acc: 0.6950\n",
      "Epoch 47/50\n",
      "312/312 [==============================] - 12s 40ms/step - loss: 0.8686 - acc: 0.6964\n",
      "Epoch 48/50\n",
      "312/312 [==============================] - 12s 40ms/step - loss: 0.8716 - acc: 0.6942\n",
      "Epoch 49/50\n",
      "312/312 [==============================] - 12s 39ms/step - loss: 0.8639 - acc: 0.6998\n",
      "Epoch 50/50\n",
      "312/312 [==============================] - 12s 39ms/step - loss: 0.8591 - acc: 0.7003\n"
     ]
    }
   ],
   "source": [
    "model_4 = model.fit(temp_data.flow(x_train, y_train_vec, batch_size=128), steps_per_epoch=x_tr.shape[0] // 128, epochs=50)\n",
    "model.save('model_4.h5')"
   ]
  },
  {
   "cell_type": "code",
   "execution_count": 22,
   "metadata": {
    "colab": {
     "base_uri": "https://localhost:8080/"
    },
    "id": "xM6kKq8B7918",
    "outputId": "398bdc2f-96a9-4c99-856e-15801093fcf8"
   },
   "outputs": [
    {
     "name": "stdout",
     "output_type": "stream",
     "text": [
      "313/313 [==============================] - 1s 3ms/step - loss: 0.9273 - acc: 0.6935\n",
      "loss = 0.9273090958595276\n",
      "accuracy = 0.6934999823570251\n"
     ]
    }
   ],
   "source": [
    "# Evaluate your model performance (testing accuracy) on testing data.\n",
    "\n",
    "current_model = load_model('model_3.h5')\n",
    "current_acc = current_model.evaluate(x_test, y_test_vec)\n",
    "print('loss = ' + str(current_acc[0]))\n",
    "print('accuracy = ' + str(current_acc[1]))"
   ]
  },
  {
   "cell_type": "code",
   "execution_count": 25,
   "metadata": {
    "colab": {
     "base_uri": "https://localhost:8080/"
    },
    "id": "S8iywm0jSHq2",
    "outputId": "1afc37f1-3dc8-4606-9953-946b32208f6f"
   },
   "outputs": [
    {
     "name": "stdout",
     "output_type": "stream",
     "text": [
      "313/313 [==============================] - 1s 3ms/step - loss: 0.8667 - acc: 0.7015\n",
      "loss = 0.8666813373565674\n",
      "accuracy = 0.7014999985694885\n"
     ]
    }
   ],
   "source": [
    "# Evaluate your model performance (testing accuracy) on testing data.\n",
    "\n",
    "current_model = load_model('model_4.h5')\n",
    "current_acc = current_model.evaluate(x_test, y_test_vec)\n",
    "print('loss = ' + str(current_acc[0]))\n",
    "print('accuracy = ' + str(current_acc[1]))"
   ]
  },
  {
   "cell_type": "markdown",
   "metadata": {
    "id": "Pq_z9otq8peB"
   },
   "source": [
    "### Second Model using Batch Normalization and Dropout:"
   ]
  },
  {
   "cell_type": "code",
   "execution_count": 26,
   "metadata": {
    "colab": {
     "base_uri": "https://localhost:8080/"
    },
    "id": "-bHrJstR8rFE",
    "outputId": "86029fe2-cce8-4679-be19-edfafb543bc6"
   },
   "outputs": [
    {
     "name": "stdout",
     "output_type": "stream",
     "text": [
      "Model: \"sequential_5\"\n",
      "_________________________________________________________________\n",
      " Layer (type)                Output Shape              Param #   \n",
      "=================================================================\n",
      " conv2d_10 (Conv2D)          (None, 30, 30, 32)        896       \n",
      "                                                                 \n",
      " batch_normalization_9 (Batc  (None, 30, 30, 32)       128       \n",
      " hNormalization)                                                 \n",
      "                                                                 \n",
      " activation_9 (Activation)   (None, 30, 30, 32)        0         \n",
      "                                                                 \n",
      " max_pooling2d_10 (MaxPoolin  (None, 15, 15, 32)       0         \n",
      " g2D)                                                            \n",
      "                                                                 \n",
      " conv2d_11 (Conv2D)          (None, 12, 12, 64)        32832     \n",
      "                                                                 \n",
      " batch_normalization_10 (Bat  (None, 12, 12, 64)       256       \n",
      " chNormalization)                                                \n",
      "                                                                 \n",
      " activation_10 (Activation)  (None, 12, 12, 64)        0         \n",
      "                                                                 \n",
      " max_pooling2d_11 (MaxPoolin  (None, 6, 6, 64)         0         \n",
      " g2D)                                                            \n",
      "                                                                 \n",
      " flatten_5 (Flatten)         (None, 2304)              0         \n",
      "                                                                 \n",
      " dropout (Dropout)           (None, 2304)              0         \n",
      "                                                                 \n",
      " dense_10 (Dense)            (None, 256)               590080    \n",
      "                                                                 \n",
      " batch_normalization_11 (Bat  (None, 256)              1024      \n",
      " chNormalization)                                                \n",
      "                                                                 \n",
      " activation_11 (Activation)  (None, 256)               0         \n",
      "                                                                 \n",
      " dense_11 (Dense)            (None, 10)                2570      \n",
      "                                                                 \n",
      "=================================================================\n",
      "Total params: 627,786\n",
      "Trainable params: 627,082\n",
      "Non-trainable params: 704\n",
      "_________________________________________________________________\n"
     ]
    }
   ],
   "source": [
    "# Build the model\n",
    "\n",
    "\n",
    "model = Sequential()\n",
    "model.add(Conv2D(32, (3, 3), input_shape=(32, 32, 3)))\n",
    "model.add(BatchNormalization())\n",
    "model.add(Activation('relu'))\n",
    "\n",
    "model.add(MaxPooling2D((2, 2)))\n",
    "\n",
    "model.add(Conv2D(64, (4, 4)))\n",
    "model.add(BatchNormalization())\n",
    "model.add(Activation('relu'))\n",
    "\n",
    "model.add(MaxPooling2D((2, 2)))\n",
    "\n",
    "model.add(Flatten())\n",
    "model.add(Dropout(0.5))\n",
    "model.add(Dense(256))\n",
    "model.add(BatchNormalization())\n",
    "model.add(Activation('relu'))\n",
    "\n",
    "model.add(Dense(10, activation='softmax'))\n",
    "\n",
    "model.summary()"
   ]
  },
  {
   "cell_type": "code",
   "execution_count": 27,
   "metadata": {
    "id": "a_zZh0lZ80Iy"
   },
   "outputs": [],
   "source": [
    "# Define model optimizer and loss function\n",
    "\n",
    "lr = 0.001\n",
    "model.compile(loss='categorical_crossentropy', optimizer=optimizers.RMSprop(learning_rate=lr), metrics=['acc'])"
   ]
  },
  {
   "cell_type": "code",
   "execution_count": 28,
   "metadata": {
    "colab": {
     "base_uri": "https://localhost:8080/"
    },
    "id": "f_PL0XQT8z_p",
    "outputId": "b3377ceb-710c-49cb-8bbb-22c0864dd4e5"
   },
   "outputs": [
    {
     "name": "stdout",
     "output_type": "stream",
     "text": [
      "Epoch 1/50\n",
      "313/313 [==============================] - 3s 7ms/step - loss: 1.4010 - acc: 0.5006 - val_loss: 2.7804 - val_acc: 0.2018\n",
      "Epoch 2/50\n",
      "313/313 [==============================] - 2s 6ms/step - loss: 1.0765 - acc: 0.6166 - val_loss: 1.2008 - val_acc: 0.5772\n",
      "Epoch 3/50\n",
      "313/313 [==============================] - 2s 6ms/step - loss: 0.9486 - acc: 0.6665 - val_loss: 1.0610 - val_acc: 0.6245\n",
      "Epoch 4/50\n",
      "313/313 [==============================] - 2s 6ms/step - loss: 0.8707 - acc: 0.6932 - val_loss: 1.4986 - val_acc: 0.4899\n",
      "Epoch 5/50\n",
      "313/313 [==============================] - 2s 6ms/step - loss: 0.8040 - acc: 0.7161 - val_loss: 0.9244 - val_acc: 0.6689\n",
      "Epoch 6/50\n",
      "313/313 [==============================] - 2s 6ms/step - loss: 0.7486 - acc: 0.7391 - val_loss: 0.9386 - val_acc: 0.6749\n",
      "Epoch 7/50\n",
      "313/313 [==============================] - 2s 6ms/step - loss: 0.7028 - acc: 0.7531 - val_loss: 0.8941 - val_acc: 0.6939\n",
      "Epoch 8/50\n",
      "313/313 [==============================] - 2s 6ms/step - loss: 0.6700 - acc: 0.7646 - val_loss: 0.9386 - val_acc: 0.6734\n",
      "Epoch 9/50\n",
      "313/313 [==============================] - 2s 6ms/step - loss: 0.6362 - acc: 0.7772 - val_loss: 1.1281 - val_acc: 0.6478\n",
      "Epoch 10/50\n",
      "313/313 [==============================] - 2s 6ms/step - loss: 0.5972 - acc: 0.7930 - val_loss: 0.7531 - val_acc: 0.7419\n",
      "Epoch 11/50\n",
      "313/313 [==============================] - 2s 6ms/step - loss: 0.5647 - acc: 0.8009 - val_loss: 1.6648 - val_acc: 0.5407\n",
      "Epoch 12/50\n",
      "313/313 [==============================] - 2s 6ms/step - loss: 0.5464 - acc: 0.8089 - val_loss: 0.7800 - val_acc: 0.7381\n",
      "Epoch 13/50\n",
      "313/313 [==============================] - 2s 6ms/step - loss: 0.5231 - acc: 0.8166 - val_loss: 0.9620 - val_acc: 0.6889\n",
      "Epoch 14/50\n",
      "313/313 [==============================] - 2s 6ms/step - loss: 0.4947 - acc: 0.8278 - val_loss: 0.8791 - val_acc: 0.7092\n",
      "Epoch 15/50\n",
      "313/313 [==============================] - 2s 6ms/step - loss: 0.4700 - acc: 0.8353 - val_loss: 1.3240 - val_acc: 0.6039\n",
      "Epoch 16/50\n",
      "313/313 [==============================] - 2s 6ms/step - loss: 0.4472 - acc: 0.8436 - val_loss: 0.9667 - val_acc: 0.6909\n",
      "Epoch 17/50\n",
      "313/313 [==============================] - 2s 6ms/step - loss: 0.4319 - acc: 0.8504 - val_loss: 0.7658 - val_acc: 0.7568\n",
      "Epoch 18/50\n",
      "313/313 [==============================] - 2s 6ms/step - loss: 0.4136 - acc: 0.8548 - val_loss: 1.5756 - val_acc: 0.6043\n",
      "Epoch 19/50\n",
      "313/313 [==============================] - 2s 6ms/step - loss: 0.3949 - acc: 0.8626 - val_loss: 0.7440 - val_acc: 0.7624\n",
      "Epoch 20/50\n",
      "313/313 [==============================] - 2s 6ms/step - loss: 0.3848 - acc: 0.8670 - val_loss: 0.7336 - val_acc: 0.7613\n",
      "Epoch 21/50\n",
      "313/313 [==============================] - 2s 6ms/step - loss: 0.3656 - acc: 0.8736 - val_loss: 0.9102 - val_acc: 0.7213\n",
      "Epoch 22/50\n",
      "313/313 [==============================] - 2s 6ms/step - loss: 0.3485 - acc: 0.8770 - val_loss: 0.7705 - val_acc: 0.7434\n",
      "Epoch 23/50\n",
      "313/313 [==============================] - 2s 6ms/step - loss: 0.3459 - acc: 0.8797 - val_loss: 0.7592 - val_acc: 0.7550\n",
      "Epoch 24/50\n",
      "313/313 [==============================] - 2s 6ms/step - loss: 0.3299 - acc: 0.8838 - val_loss: 1.1308 - val_acc: 0.6733\n",
      "Epoch 25/50\n",
      "313/313 [==============================] - 2s 6ms/step - loss: 0.3176 - acc: 0.8882 - val_loss: 0.8588 - val_acc: 0.7492\n",
      "Epoch 26/50\n",
      "313/313 [==============================] - 2s 6ms/step - loss: 0.3041 - acc: 0.8938 - val_loss: 1.0947 - val_acc: 0.7022\n",
      "Epoch 27/50\n",
      "313/313 [==============================] - 2s 6ms/step - loss: 0.3039 - acc: 0.8953 - val_loss: 0.8790 - val_acc: 0.7471\n",
      "Epoch 28/50\n",
      "313/313 [==============================] - 2s 6ms/step - loss: 0.2901 - acc: 0.9004 - val_loss: 0.7724 - val_acc: 0.7734\n",
      "Epoch 29/50\n",
      "313/313 [==============================] - 2s 6ms/step - loss: 0.2781 - acc: 0.9031 - val_loss: 0.8976 - val_acc: 0.7265\n",
      "Epoch 30/50\n",
      "313/313 [==============================] - 2s 6ms/step - loss: 0.2780 - acc: 0.9041 - val_loss: 0.9509 - val_acc: 0.7280\n",
      "Epoch 31/50\n",
      "313/313 [==============================] - 2s 6ms/step - loss: 0.2684 - acc: 0.9074 - val_loss: 0.9693 - val_acc: 0.7400\n",
      "Epoch 32/50\n",
      "313/313 [==============================] - 2s 6ms/step - loss: 0.2594 - acc: 0.9100 - val_loss: 0.7696 - val_acc: 0.7632\n",
      "Epoch 33/50\n",
      "313/313 [==============================] - 2s 6ms/step - loss: 0.2566 - acc: 0.9105 - val_loss: 1.1291 - val_acc: 0.6982\n",
      "Epoch 34/50\n",
      "313/313 [==============================] - 2s 6ms/step - loss: 0.2488 - acc: 0.9149 - val_loss: 0.8032 - val_acc: 0.7610\n",
      "Epoch 35/50\n",
      "313/313 [==============================] - 2s 6ms/step - loss: 0.2468 - acc: 0.9153 - val_loss: 0.8516 - val_acc: 0.7659\n",
      "Epoch 36/50\n",
      "313/313 [==============================] - 2s 6ms/step - loss: 0.2392 - acc: 0.9173 - val_loss: 1.4489 - val_acc: 0.6315\n",
      "Epoch 37/50\n",
      "313/313 [==============================] - 2s 6ms/step - loss: 0.2349 - acc: 0.9196 - val_loss: 0.8341 - val_acc: 0.7567\n",
      "Epoch 38/50\n",
      "313/313 [==============================] - 2s 6ms/step - loss: 0.2220 - acc: 0.9231 - val_loss: 1.2317 - val_acc: 0.6546\n",
      "Epoch 39/50\n",
      "313/313 [==============================] - 2s 6ms/step - loss: 0.2209 - acc: 0.9238 - val_loss: 0.7900 - val_acc: 0.7576\n",
      "Epoch 40/50\n",
      "313/313 [==============================] - 2s 6ms/step - loss: 0.2186 - acc: 0.9247 - val_loss: 1.2296 - val_acc: 0.6916\n",
      "Epoch 41/50\n",
      "313/313 [==============================] - 2s 6ms/step - loss: 0.2134 - acc: 0.9261 - val_loss: 1.0066 - val_acc: 0.7182\n",
      "Epoch 42/50\n",
      "313/313 [==============================] - 2s 6ms/step - loss: 0.2108 - acc: 0.9265 - val_loss: 1.1948 - val_acc: 0.6981\n",
      "Epoch 43/50\n",
      "313/313 [==============================] - 2s 6ms/step - loss: 0.2058 - acc: 0.9285 - val_loss: 0.9009 - val_acc: 0.7587\n",
      "Epoch 44/50\n",
      "313/313 [==============================] - 2s 6ms/step - loss: 0.2100 - acc: 0.9266 - val_loss: 0.9652 - val_acc: 0.7536\n",
      "Epoch 45/50\n",
      "313/313 [==============================] - 2s 6ms/step - loss: 0.2030 - acc: 0.9302 - val_loss: 0.8061 - val_acc: 0.7746\n",
      "Epoch 46/50\n",
      "313/313 [==============================] - 2s 6ms/step - loss: 0.1959 - acc: 0.9326 - val_loss: 1.2095 - val_acc: 0.7192\n",
      "Epoch 47/50\n",
      "313/313 [==============================] - 2s 6ms/step - loss: 0.1968 - acc: 0.9323 - val_loss: 1.2535 - val_acc: 0.6457\n",
      "Epoch 48/50\n",
      "313/313 [==============================] - 2s 6ms/step - loss: 0.1967 - acc: 0.9325 - val_loss: 0.8520 - val_acc: 0.7464\n",
      "Epoch 49/50\n",
      "313/313 [==============================] - 2s 6ms/step - loss: 0.1897 - acc: 0.9346 - val_loss: 0.9192 - val_acc: 0.7530\n",
      "Epoch 50/50\n",
      "313/313 [==============================] - 2s 6ms/step - loss: 0.1895 - acc: 0.9351 - val_loss: 0.9600 - val_acc: 0.7219\n"
     ]
    }
   ],
   "source": [
    "# Train the model and store model parameters/loss values\n",
    "\n",
    "model_5 = model.fit(x_tr, y_tr, batch_size=128, epochs=50, validation_data=(x_val, y_val))\n",
    "model.save('model_5.h5')"
   ]
  },
  {
   "cell_type": "code",
   "execution_count": 34,
   "metadata": {
    "colab": {
     "base_uri": "https://localhost:8080/",
     "height": 279
    },
    "id": "CRpQAtsw8zyZ",
    "outputId": "249d8d0d-9dc7-42f0-b949-cbdbdf0bd335"
   },
   "outputs": [
    {
     "data": {
      "image/png": "[encoded data removed]",
      "text/plain": [
       "<Figure size 640x480 with 1 Axes>"
      ]
     },
     "metadata": {},
     "output_type": "display_data"
    }
   ],
   "source": [
    "# Plot the loss curve\n",
    "\n",
    "import matplotlib.pyplot as plt\n",
    "%matplotlib inline\n",
    "\n",
    "loss = model_5.history['loss']\n",
    "val_loss = model_5.history['val_loss']\n",
    "\n",
    "epochs = range(len(loss))\n",
    "\n",
    "plt.xlabel('Epochs')\n",
    "plt.ylabel('Accuracy')\n",
    "\n",
    "plt.plot(epochs, loss, 'red', label='Training acc')\n",
    "plt.plot(epochs, val_loss, 'green', label='Validation acc')\n",
    "\n",
    "plt.legend()\n",
    "plt.show()"
   ]
  },
  {
   "cell_type": "markdown",
   "metadata": {
    "id": "evi2x62Qpdse"
   },
   "source": [
    "### Train the model on the entire training set\n",
    "Why? Previously, you used 40K samples for training; you wasted 10K samples for the sake of hyper-parameter tuning. Now you already know the hyper-parameters, so why not using all the 50K samples for training?"
   ]
  },
  {
   "cell_type": "code",
   "execution_count": 30,
   "metadata": {
    "id": "ffhx5Rg89LY3"
   },
   "outputs": [],
   "source": [
    "#<Compile your model again (using the same hyper-parameters you tuned above)>\n",
    "\n",
    "from keras.layers import Conv2D, MaxPooling2D, Flatten, Dense, Dropout, Activation, BatchNormalization\n",
    "from keras.models import Sequential\n",
    "\n",
    "model = Sequential()\n",
    "model.add(Conv2D(32, (3, 3), input_shape=(32, 32, 3)))\n",
    "model.add(BatchNormalization())\n",
    "model.add(Activation('relu'))\n",
    "\n",
    "model.add(MaxPooling2D((2, 2)))\n",
    "\n",
    "model.add(Conv2D(64, (4, 4)))\n",
    "model.add(BatchNormalization())\n",
    "model.add(Activation('relu'))\n",
    "\n",
    "model.add(MaxPooling2D((2, 2)))\n",
    "\n",
    "model.add(Flatten())\n",
    "model.add(Dropout(0.5))\n",
    "model.add(Dense(256))\n",
    "model.add(BatchNormalization())\n",
    "model.add(Activation('relu'))\n",
    "\n",
    "model.add(Dense(10, activation='softmax'))\n",
    "\n",
    "model.compile(loss='categorical_crossentropy', optimizer=optimizers.RMSprop(learning_rate=lr), metrics=['acc'])"
   ]
  },
  {
   "cell_type": "code",
   "execution_count": 31,
   "metadata": {
    "colab": {
     "base_uri": "https://localhost:8080/"
    },
    "id": "6oq_wue_9LVV",
    "outputId": "a5a78b29-1e86-4bbb-ee09-2631eb45f91a"
   },
   "outputs": [
    {
     "name": "stdout",
     "output_type": "stream",
     "text": [
      "Epoch 1/50\n",
      "391/391 [==============================] - 3s 6ms/step - loss: 1.3297 - acc: 0.5261\n",
      "Epoch 2/50\n",
      "391/391 [==============================] - 2s 6ms/step - loss: 1.0174 - acc: 0.6375\n",
      "Epoch 3/50\n",
      "391/391 [==============================] - 2s 6ms/step - loss: 0.8976 - acc: 0.6840\n",
      "Epoch 4/50\n",
      "391/391 [==============================] - 2s 6ms/step - loss: 0.8171 - acc: 0.7147\n",
      "Epoch 5/50\n",
      "391/391 [==============================] - 2s 6ms/step - loss: 0.7628 - acc: 0.7312\n",
      "Epoch 6/50\n",
      "391/391 [==============================] - 2s 6ms/step - loss: 0.7103 - acc: 0.7508\n",
      "Epoch 7/50\n",
      "391/391 [==============================] - 2s 6ms/step - loss: 0.6668 - acc: 0.7684\n",
      "Epoch 8/50\n",
      "391/391 [==============================] - 2s 6ms/step - loss: 0.6324 - acc: 0.7792\n",
      "Epoch 9/50\n",
      "391/391 [==============================] - 2s 6ms/step - loss: 0.5946 - acc: 0.7924\n",
      "Epoch 10/50\n",
      "391/391 [==============================] - 2s 6ms/step - loss: 0.5733 - acc: 0.7995\n",
      "Epoch 11/50\n",
      "391/391 [==============================] - 2s 6ms/step - loss: 0.5407 - acc: 0.8099\n",
      "Epoch 12/50\n",
      "391/391 [==============================] - 2s 6ms/step - loss: 0.5228 - acc: 0.8190\n",
      "Epoch 13/50\n",
      "391/391 [==============================] - 2s 6ms/step - loss: 0.4952 - acc: 0.8270\n",
      "Epoch 14/50\n",
      "391/391 [==============================] - 2s 6ms/step - loss: 0.4778 - acc: 0.8338\n",
      "Epoch 15/50\n",
      "391/391 [==============================] - 2s 6ms/step - loss: 0.4559 - acc: 0.8417\n",
      "Epoch 16/50\n",
      "391/391 [==============================] - 2s 6ms/step - loss: 0.4435 - acc: 0.8457\n",
      "Epoch 17/50\n",
      "391/391 [==============================] - 2s 6ms/step - loss: 0.4250 - acc: 0.8520\n",
      "Epoch 18/50\n",
      "391/391 [==============================] - 2s 6ms/step - loss: 0.4097 - acc: 0.8567\n",
      "Epoch 19/50\n",
      "391/391 [==============================] - 2s 6ms/step - loss: 0.3935 - acc: 0.8624\n",
      "Epoch 20/50\n",
      "391/391 [==============================] - 2s 6ms/step - loss: 0.3785 - acc: 0.8679\n",
      "Epoch 21/50\n",
      "391/391 [==============================] - 2s 6ms/step - loss: 0.3661 - acc: 0.8713\n",
      "Epoch 22/50\n",
      "391/391 [==============================] - 2s 6ms/step - loss: 0.3500 - acc: 0.8781\n",
      "Epoch 23/50\n",
      "391/391 [==============================] - 2s 6ms/step - loss: 0.3450 - acc: 0.8799\n",
      "Epoch 24/50\n",
      "391/391 [==============================] - 2s 6ms/step - loss: 0.3376 - acc: 0.8826\n",
      "Epoch 25/50\n",
      "391/391 [==============================] - 2s 6ms/step - loss: 0.3224 - acc: 0.8870\n",
      "Epoch 26/50\n",
      "391/391 [==============================] - 2s 6ms/step - loss: 0.3154 - acc: 0.8895\n",
      "Epoch 27/50\n",
      "391/391 [==============================] - 2s 6ms/step - loss: 0.3101 - acc: 0.8910\n",
      "Epoch 28/50\n",
      "391/391 [==============================] - 2s 6ms/step - loss: 0.3002 - acc: 0.8956\n",
      "Epoch 29/50\n",
      "391/391 [==============================] - 2s 6ms/step - loss: 0.2928 - acc: 0.8983\n",
      "Epoch 30/50\n",
      "391/391 [==============================] - 2s 6ms/step - loss: 0.2854 - acc: 0.9002\n",
      "Epoch 31/50\n",
      "391/391 [==============================] - 2s 6ms/step - loss: 0.2811 - acc: 0.9013\n",
      "Epoch 32/50\n",
      "391/391 [==============================] - 2s 6ms/step - loss: 0.2698 - acc: 0.9057\n",
      "Epoch 33/50\n",
      "391/391 [==============================] - 2s 6ms/step - loss: 0.2688 - acc: 0.9061\n",
      "Epoch 34/50\n",
      "391/391 [==============================] - 2s 6ms/step - loss: 0.2648 - acc: 0.9062\n",
      "Epoch 35/50\n",
      "391/391 [==============================] - 2s 6ms/step - loss: 0.2544 - acc: 0.9115\n",
      "Epoch 36/50\n",
      "391/391 [==============================] - 2s 6ms/step - loss: 0.2522 - acc: 0.9121\n",
      "Epoch 37/50\n",
      "391/391 [==============================] - 2s 6ms/step - loss: 0.2430 - acc: 0.9162\n",
      "Epoch 38/50\n",
      "391/391 [==============================] - 2s 6ms/step - loss: 0.2475 - acc: 0.9130\n",
      "Epoch 39/50\n",
      "391/391 [==============================] - 2s 6ms/step - loss: 0.2404 - acc: 0.9152\n",
      "Epoch 40/50\n",
      "391/391 [==============================] - 2s 6ms/step - loss: 0.2332 - acc: 0.9191\n",
      "Epoch 41/50\n",
      "391/391 [==============================] - 2s 6ms/step - loss: 0.2311 - acc: 0.9202\n",
      "Epoch 42/50\n",
      "391/391 [==============================] - 2s 6ms/step - loss: 0.2256 - acc: 0.9204\n",
      "Epoch 43/50\n",
      "391/391 [==============================] - 2s 6ms/step - loss: 0.2244 - acc: 0.9224\n",
      "Epoch 44/50\n",
      "391/391 [==============================] - 2s 6ms/step - loss: 0.2187 - acc: 0.9245\n",
      "Epoch 45/50\n",
      "391/391 [==============================] - 2s 6ms/step - loss: 0.2201 - acc: 0.9237\n",
      "Epoch 46/50\n",
      "391/391 [==============================] - 2s 6ms/step - loss: 0.2133 - acc: 0.9254\n",
      "Epoch 47/50\n",
      "391/391 [==============================] - 2s 6ms/step - loss: 0.2125 - acc: 0.9271\n",
      "Epoch 48/50\n",
      "391/391 [==============================] - 2s 6ms/step - loss: 0.2111 - acc: 0.9273\n",
      "Epoch 49/50\n",
      "391/391 [==============================] - 2s 6ms/step - loss: 0.2081 - acc: 0.9264\n",
      "Epoch 50/50\n",
      "391/391 [==============================] - 2s 5ms/step - loss: 0.2022 - acc: 0.9284\n"
     ]
    }
   ],
   "source": [
    "# Train the model and store model parameters/loss values\n",
    "\n",
    "model_6 = model.fit(x_train, y_train_vec, batch_size=128, epochs=50)\n",
    "model.save('model_6.h5')"
   ]
  },
  {
   "cell_type": "code",
   "execution_count": 32,
   "metadata": {
    "colab": {
     "base_uri": "https://localhost:8080/"
    },
    "id": "VXlMFX869LSm",
    "outputId": "63b84395-5697-4b3d-bd9e-1c33d9ffbe0b"
   },
   "outputs": [
    {
     "name": "stdout",
     "output_type": "stream",
     "text": [
      "313/313 [==============================] - 1s 2ms/step - loss: 0.9862 - acc: 0.7103\n",
      "loss = 0.9862155318260193\n",
      "accuracy = 0.7103000283241272\n"
     ]
    }
   ],
   "source": [
    "# Evaluate your model performance (testing accuracy) on testing data.\n",
    "\n",
    "current_model = load_model('model_5.h5')\n",
    "current_acc = current_model.evaluate(x_test, y_test_vec)\n",
    "print('loss = ' + str(current_acc[0]))\n",
    "print('accuracy = ' + str(current_acc[1]))"
   ]
  },
  {
   "cell_type": "code",
   "execution_count": 33,
   "metadata": {
    "colab": {
     "base_uri": "https://localhost:8080/"
    },
    "id": "G3jBKfWK9LPn",
    "outputId": "46352971-95e4-4b5b-8222-316e7d4a64b2"
   },
   "outputs": [
    {
     "name": "stdout",
     "output_type": "stream",
     "text": [
      "313/313 [==============================] - 1s 2ms/step - loss: 1.1104 - acc: 0.7182\n",
      "loss = 1.1104212999343872\n",
      "accuracy = 0.7182000279426575\n"
     ]
    }
   ],
   "source": [
    "# Evaluate your model performance (testing accuracy) on testing data.\n",
    "\n",
    "current_model = load_model('model_6.h5')\n",
    "current_acc = current_model.evaluate(x_test, y_test_vec)\n",
    "print('loss = ' + str(current_acc[0]))\n",
    "print('accuracy = ' + str(current_acc[1]))"
   ]
  },
  {
   "cell_type": "markdown",
   "metadata": {
    "id": "KTQT4F2p9LMH"
   },
   "source": [
    "## Comparision and Analysis:"
   ]
  },
  {
   "cell_type": "markdown",
   "metadata": {
    "id": "KGxOYc3Cpdsf"
   },
   "source": [
    "*Normal CNN model:* is not that efficient and has an accuracy of 66 % and after using full training dataset it achieves accuracy of 70 %. *My first model* which uses data augmentation and batch normalization has a accuracy of 69 % and after using full training dataset it achieves has accuracy of 70 %. *My second and final model* which uses batch normaliztion and dropout has an accuracy of 71 % and after using full training dataset it achieves an accuracy of ~72 %."
   ]
  },
  {
   "cell_type": "code",
   "execution_count": 36,
   "metadata": {},
   "outputs": [],
   "source": [
    "from numba import cuda \n",
    "device = cuda.get_current_device()\n",
    "device.reset()"
   ]
  }
 ],
 "metadata": {
  "accelerator": "GPU",
  "colab": {
   "provenance": []
  },
  "gpuClass": "standard",
  "kernelspec": {
   "display_name": "tf",
   "language": "python",
   "name": "tf"
  },
  "language_info": {
   "codemirror_mode": {
    "name": "ipython",
    "version": 3
   },
   "file_extension": ".py",
   "mimetype": "text/x-python",
   "name": "python",
   "nbconvert_exporter": "python",
   "pygments_lexer": "ipython3",
   "version": "3.7.15"
  }
 },
 "nbformat": 4,
 "nbformat_minor": 1
}
